{
 "cells": [
  {
   "cell_type": "code",
   "execution_count": 1,
   "id": "a0449867",
   "metadata": {},
   "outputs": [],
   "source": [
    "import mysql.connector as connector\n"
   ]
  },
  {
   "cell_type": "code",
   "execution_count": 8,
   "id": "fc69fa5c",
   "metadata": {},
   "outputs": [],
   "source": [
    "connection=connector.connect(user=\"capstoneProject\", password=\"First_user1\", db = \"db-capstone-project\")\n",
    "cursor = connection.cursor()"
   ]
  },
  {
   "cell_type": "code",
   "execution_count": 14,
   "id": "04a643e9",
   "metadata": {},
   "outputs": [],
   "source": [
    "show_tables_query = \"SHOW tables\" \n",
    "cursor.execute(show_tables_query)"
   ]
  },
  {
   "cell_type": "code",
   "execution_count": 15,
   "id": "a6e70c09",
   "metadata": {},
   "outputs": [],
   "source": [
    "results = cursor.fetchall()"
   ]
  },
  {
   "cell_type": "code",
   "execution_count": 18,
   "id": "8d2cc57c",
   "metadata": {},
   "outputs": [
    {
     "name": "stdout",
     "output_type": "stream",
     "text": [
      "('Bookings',)\n",
      "('CustomerDetails',)\n",
      "('Menu',)\n",
      "('MenuItems',)\n",
      "('OrderDeliveryStatus',)\n",
      "('Orders',)\n",
      "('OrdersView',)\n",
      "('Staff',)\n"
     ]
    }
   ],
   "source": [
    "for table in results:\n",
    "    print(table)"
   ]
  },
  {
   "cell_type": "markdown",
   "id": "92d30424",
   "metadata": {},
   "source": [
    "# Joining tables"
   ]
  },
  {
   "cell_type": "code",
   "execution_count": 23,
   "id": "c1ab9b35",
   "metadata": {},
   "outputs": [],
   "source": [
    "join_tables =   \"\"\"select cd.name, cd.contactNumber, cd.email, Orders.cost as bill_amount\n",
    "                   from CustomerDetails as cd\n",
    "                   join Bookings using(customerID)\n",
    "                   join Orders using(orderID)\n",
    "                   where Orders.cost >= 60;\"\"\"\n",
    "\n",
    "cursor.execute(join_tables)"
   ]
  },
  {
   "cell_type": "code",
   "execution_count": 24,
   "id": "56e70dbe",
   "metadata": {},
   "outputs": [],
   "source": [
    "cols = cursor.column_names\n",
    "results = cursor.fetchall()"
   ]
  },
  {
   "cell_type": "code",
   "execution_count": 26,
   "id": "209e0752",
   "metadata": {},
   "outputs": [
    {
     "name": "stdout",
     "output_type": "stream",
     "text": [
      "('name', 'contactNumber', 'email', 'bill_amount')\n",
      "('Laney Fadden', 587499630, 'Laney_Fadden@yahoo.com', Decimal('250.00'))\n",
      "('Lia Bonar', 35757094, 'Lia_Bonar@yahoo.com', Decimal('75.00'))\n",
      "('Giacopo Bramich', 602387059, 'Giacopo_Bramich@yahoo.com', Decimal('640.00'))\n",
      "('Laney Fadden', 587499630, 'Laney_Fadden@yahoo.com', Decimal('930.00'))\n",
      "('Angel Veschambre', 441068726, 'Angel_Veschambre@yahoo.com', Decimal('380.00'))\n",
      "('Mart Malsher', 182382784, 'Mart_Malsher@yahoo.com', Decimal('336.54'))\n",
      "('Margarita Mancktelow', 968835571, 'Margarita_Mancktelow@yahoo.com', Decimal('101.60'))\n",
      "('Audie Willcocks', 666831761, 'Audie_Willcocks@yahoo.com', Decimal('98.00'))\n",
      "('Giacopo Bramich', 602387059, 'Giacopo_Bramich@yahoo.com', Decimal('625.00'))\n",
      "('Tasia Fautly', 971220077, 'Tasia_Fautly@yahoo.com', Decimal('840.00'))\n",
      "('Sheilah Maestro', 756528475, 'Sheilah_Maestro@yahoo.com', Decimal('220.00'))\n",
      "('Magdalen Lacheze', 144270652, 'Magdalen_Lacheze@yahoo.com', Decimal('940.00'))\n"
     ]
    }
   ],
   "source": [
    "print(cols)\n",
    "for result in results:\n",
    "    print(result)"
   ]
  },
  {
   "cell_type": "code",
   "execution_count": null,
   "id": "9fa7a776",
   "metadata": {},
   "outputs": [],
   "source": []
  }
 ],
 "metadata": {
  "kernelspec": {
   "display_name": "Python 3 (ipykernel)",
   "language": "python",
   "name": "python3"
  },
  "language_info": {
   "codemirror_mode": {
    "name": "ipython",
    "version": 3
   },
   "file_extension": ".py",
   "mimetype": "text/x-python",
   "name": "python",
   "nbconvert_exporter": "python",
   "pygments_lexer": "ipython3",
   "version": "3.8.5"
  }
 },
 "nbformat": 4,
 "nbformat_minor": 5
}
